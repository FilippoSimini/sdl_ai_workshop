{
 "cells": [
  {
   "cell_type": "markdown",
   "id": "bcf6bbe4",
   "metadata": {},
   "source": [
    "<div class=\"alert alert-warning\">\n",
    "\n",
    "<b>Warning</b>\n",
    "    \n",
    "By design asyncio does not allow nested event loops. Jupyter is using Tornado which already starts an event loop. Therefore the following patch is required to run this tutorial.\n",
    "    \n",
    "This tutorial should be run with `tensorFlow>=2.6`.\n",
    "    \n",
    "</div>\n",
    "\n",
    "<div class=\"alert alert-info\">\n",
    "    \n",
    "<b>Reference</b>\n",
    "    \n",
    "This tutorial is based on materials from the Keras Documentation:\n",
    "* [Structured data classification from scratch](https://keras.io/examples/structured_data/structured_data_classification_from_scratch/)\n",
    "    \n",
    "</div>"
   ]
  },
  {
   "cell_type": "code",
   "execution_count": 1,
   "id": "1f7f8b59",
   "metadata": {},
   "outputs": [
    {
     "name": "stdout",
     "output_type": "stream",
     "text": [
      "Requirement already satisfied: nest_asyncio in /Users/romainegele/opt/anaconda3/envs/dhtfp/lib/python3.8/site-packages (1.5.1)\r\n"
     ]
    }
   ],
   "source": [
    "!pip install nest_asyncio\n",
    "\n",
    "import nest_asyncio\n",
    "nest_asyncio.apply()"
   ]
  },
  {
   "cell_type": "code",
   "execution_count": 2,
   "id": "55b68245",
   "metadata": {},
   "outputs": [],
   "source": [
    "import os\n",
    "\n",
    "os.environ[\"TF_CPP_MIN_LOG_LEVEL\"] = str(3)"
   ]
  },
  {
   "cell_type": "markdown",
   "id": "fd95c7da",
   "metadata": {},
   "source": [
    "## Imports"
   ]
  },
  {
   "cell_type": "code",
   "execution_count": 3,
   "id": "7d6d9f4b",
   "metadata": {},
   "outputs": [],
   "source": [
    "import pandas as pd\n",
    "import tensorflow as tf"
   ]
  },
  {
   "cell_type": "markdown",
   "id": "392b4eec",
   "metadata": {},
   "source": [
    "### The dataset (from Keras.io)\n",
    "\n",
    "The [dataset](https://archive.ics.uci.edu/ml/datasets/heart+Disease) is provided by the\n",
    "Cleveland Clinic Foundation for Heart Disease.\n",
    "It's a CSV file with 303 rows. Each row contains information about a patient (a\n",
    "**sample**), and each column describes an attribute of the patient (a **feature**). We\n",
    "use the features to predict whether a patient has a heart disease (**binary\n",
    "classification**).\n",
    "\n",
    "Here's the description of each feature:\n",
    "\n",
    "Column| Description| Feature Type\n",
    "------------|--------------------|----------------------\n",
    "Age | Age in years | Numerical\n",
    "Sex | (1 = male; 0 = female) | Categorical\n",
    "CP | Chest pain type (0, 1, 2, 3, 4) | Categorical\n",
    "Trestbpd | Resting blood pressure (in mm Hg on admission) | Numerical\n",
    "Chol | Serum cholesterol in mg/dl | Numerical\n",
    "FBS | fasting blood sugar in 120 mg/dl (1 = true; 0 = false) | Categorical\n",
    "RestECG | Resting electrocardiogram results (0, 1, 2) | Categorical\n",
    "Thalach | Maximum heart rate achieved | Numerical\n",
    "Exang | Exercise induced angina (1 = yes; 0 = no) | Categorical\n",
    "Oldpeak | ST depression induced by exercise relative to rest | Numerical\n",
    "Slope | Slope of the peak exercise ST segment | Numerical\n",
    "CA | Number of major vessels (0-3) colored by fluoroscopy | Both numerical & categorical\n",
    "Thal | 3 = normal; 6 = fixed defect; 7 = reversible defect | Categorical\n",
    "Target | Diagnosis of heart disease (1 = true; 0 = false) | Target"
   ]
  },
  {
   "cell_type": "code",
   "execution_count": 4,
   "id": "a71000fd",
   "metadata": {},
   "outputs": [],
   "source": [
    "def load_data():\n",
    "    file_url = \"http://storage.googleapis.com/download.tensorflow.org/data/heart.csv\"\n",
    "    dataframe = pd.read_csv(file_url)\n",
    "\n",
    "    val_dataframe = dataframe.sample(frac=0.2, random_state=1337)\n",
    "    train_dataframe = dataframe.drop(val_dataframe.index)\n",
    "\n",
    "    return train_dataframe, val_dataframe\n",
    "\n",
    "\n",
    "def dataframe_to_dataset(dataframe):\n",
    "    dataframe = dataframe.copy()\n",
    "    labels = dataframe.pop(\"target\")\n",
    "    ds = tf.data.Dataset.from_tensor_slices((dict(dataframe), labels))\n",
    "    ds = ds.shuffle(buffer_size=len(dataframe))\n",
    "    return ds"
   ]
  },
  {
   "cell_type": "code",
   "execution_count": 5,
   "id": "680479ba",
   "metadata": {},
   "outputs": [],
   "source": [
    "def encode_numerical_feature(feature, name, dataset):\n",
    "    # Create a Normalization layer for our feature\n",
    "    normalizer = tf.keras.layers.Normalization()\n",
    "\n",
    "    # Prepare a Dataset that only yields our feature\n",
    "    feature_ds = dataset.map(lambda x, y: x[name])\n",
    "    feature_ds = feature_ds.map(lambda x: tf.expand_dims(x, -1))\n",
    "\n",
    "    # Learn the statistics of the data\n",
    "    normalizer.adapt(feature_ds)\n",
    "\n",
    "    # Normalize the input feature\n",
    "    encoded_feature = normalizer(feature)\n",
    "    return encoded_feature\n",
    "\n",
    "\n",
    "def encode_categorical_feature(feature, name, dataset, is_string):\n",
    "    lookup_class = (\n",
    "        tf.keras.layers.StringLookup if is_string else tf.keras.layers.IntegerLookup\n",
    "    )\n",
    "    # Create a lookup layer which will turn strings into integer indices\n",
    "    lookup = lookup_class(output_mode=\"binary\")\n",
    "\n",
    "    # Prepare a Dataset that only yields our feature\n",
    "    feature_ds = dataset.map(lambda x, y: x[name])\n",
    "    feature_ds = feature_ds.map(lambda x: tf.expand_dims(x, -1))\n",
    "\n",
    "    # Learn the set of possible string values and assign them a fixed integer index\n",
    "    lookup.adapt(feature_ds)\n",
    "\n",
    "    # Turn the string input into integer indices\n",
    "    encoded_feature = lookup(feature)\n",
    "    return encoded_feature"
   ]
  },
  {
   "cell_type": "markdown",
   "id": "b8f31057",
   "metadata": {},
   "source": [
    "## Define the run-function"
   ]
  },
  {
   "cell_type": "code",
   "execution_count": 6,
   "id": "84106949",
   "metadata": {},
   "outputs": [],
   "source": [
    "def run(config: dict):\n",
    "    train_dataframe, val_dataframe = load_data()\n",
    "\n",
    "    train_ds = dataframe_to_dataset(train_dataframe)\n",
    "    val_ds = dataframe_to_dataset(val_dataframe)\n",
    "\n",
    "    train_ds = train_ds.batch(config[\"batch_size\"])\n",
    "    val_ds = val_ds.batch(config[\"batch_size\"])\n",
    "\n",
    "    # Categorical features encoded as integers\n",
    "    sex = tf.keras.Input(shape=(1,), name=\"sex\", dtype=\"int64\")\n",
    "    cp = tf.keras.Input(shape=(1,), name=\"cp\", dtype=\"int64\")\n",
    "    fbs = tf.keras.Input(shape=(1,), name=\"fbs\", dtype=\"int64\")\n",
    "    restecg = tf.keras.Input(shape=(1,), name=\"restecg\", dtype=\"int64\")\n",
    "    exang = tf.keras.Input(shape=(1,), name=\"exang\", dtype=\"int64\")\n",
    "    ca = tf.keras.Input(shape=(1,), name=\"ca\", dtype=\"int64\")\n",
    "\n",
    "    # Categorical feature encoded as string\n",
    "    thal = tf.keras.Input(shape=(1,), name=\"thal\", dtype=\"string\")\n",
    "\n",
    "    # Numerical features\n",
    "    age = tf.keras.Input(shape=(1,), name=\"age\")\n",
    "    trestbps = tf.keras.Input(shape=(1,), name=\"trestbps\")\n",
    "    chol = tf.keras.Input(shape=(1,), name=\"chol\")\n",
    "    thalach = tf.keras.Input(shape=(1,), name=\"thalach\")\n",
    "    oldpeak = tf.keras.Input(shape=(1,), name=\"oldpeak\")\n",
    "    slope = tf.keras.Input(shape=(1,), name=\"slope\")\n",
    "\n",
    "    all_inputs = [\n",
    "        sex,\n",
    "        cp,\n",
    "        fbs,\n",
    "        restecg,\n",
    "        exang,\n",
    "        ca,\n",
    "        thal,\n",
    "        age,\n",
    "        trestbps,\n",
    "        chol,\n",
    "        thalach,\n",
    "        oldpeak,\n",
    "        slope,\n",
    "    ]\n",
    "\n",
    "    # Integer categorical features\n",
    "    sex_encoded = encode_categorical_feature(sex, \"sex\", train_ds, False)\n",
    "    cp_encoded = encode_categorical_feature(cp, \"cp\", train_ds, False)\n",
    "    fbs_encoded = encode_categorical_feature(fbs, \"fbs\", train_ds, False)\n",
    "    restecg_encoded = encode_categorical_feature(restecg, \"restecg\", train_ds, False)\n",
    "    exang_encoded = encode_categorical_feature(exang, \"exang\", train_ds, False)\n",
    "    ca_encoded = encode_categorical_feature(ca, \"ca\", train_ds, False)\n",
    "\n",
    "    # String categorical features\n",
    "    thal_encoded = encode_categorical_feature(thal, \"thal\", train_ds, True)\n",
    "\n",
    "    # Numerical features\n",
    "    age_encoded = encode_numerical_feature(age, \"age\", train_ds)\n",
    "    trestbps_encoded = encode_numerical_feature(trestbps, \"trestbps\", train_ds)\n",
    "    chol_encoded = encode_numerical_feature(chol, \"chol\", train_ds)\n",
    "    thalach_encoded = encode_numerical_feature(thalach, \"thalach\", train_ds)\n",
    "    oldpeak_encoded = encode_numerical_feature(oldpeak, \"oldpeak\", train_ds)\n",
    "    slope_encoded = encode_numerical_feature(slope, \"slope\", train_ds)\n",
    "\n",
    "    all_features = tf.keras.layers.concatenate(\n",
    "        [\n",
    "            sex_encoded,\n",
    "            cp_encoded,\n",
    "            fbs_encoded,\n",
    "            restecg_encoded,\n",
    "            exang_encoded,\n",
    "            slope_encoded,\n",
    "            ca_encoded,\n",
    "            thal_encoded,\n",
    "            age_encoded,\n",
    "            trestbps_encoded,\n",
    "            chol_encoded,\n",
    "            thalach_encoded,\n",
    "            oldpeak_encoded,\n",
    "        ]\n",
    "    )\n",
    "    x = tf.keras.layers.Dense(config[\"units\"], activation=config[\"activation\"])(\n",
    "        all_features\n",
    "    )\n",
    "    x = tf.keras.layers.Dropout(config[\"dropout_rate\"])(x)\n",
    "    output = tf.keras.layers.Dense(1, activation=\"sigmoid\")(x)\n",
    "    model = tf.keras.Model(all_inputs, output)\n",
    "\n",
    "    optimizer = tf.keras.optimizers.Adam(learning_rate=config[\"learning_rate\"])\n",
    "    model.compile(optimizer, \"binary_crossentropy\", metrics=[\"accuracy\"])\n",
    "\n",
    "    history = model.fit(\n",
    "        train_ds, epochs=config[\"num_epochs\"], validation_data=val_ds, verbose=0\n",
    "    )\n",
    "\n",
    "    return history.history[\"val_accuracy\"][-1]"
   ]
  },
  {
   "cell_type": "markdown",
   "id": "214bfe7a",
   "metadata": {},
   "source": [
    "<div class=\"alert alert-success\">\n",
    "    \n",
    "<b>Important</b>\n",
    "    \n",
    "```python\n",
    "...\n",
    "history = model.fit(\n",
    "    train_ds, epochs=config[\"num_epochs\"], validation_data=val_ds, verbose=0\n",
    ")\n",
    "\n",
    "return history.history[\"val_accuracy\"][-1]\n",
    "...\n",
    "```\n",
    "    \n",
    "</div>\n",
    "\n"
   ]
  },
  {
   "cell_type": "markdown",
   "id": "e7092844",
   "metadata": {},
   "source": [
    "## Evaluate a default configuration"
   ]
  },
  {
   "cell_type": "code",
   "execution_count": 21,
   "id": "912595ef",
   "metadata": {},
   "outputs": [
    {
     "name": "stdout",
     "output_type": "stream",
     "text": [
      "Accuracy Default Configuration:  0.803\n"
     ]
    }
   ],
   "source": [
    "default_config = {\n",
    "    \"units\": 32,\n",
    "    \"activation\": \"relu\",\n",
    "    \"dropout_rate\": 0.5,\n",
    "    \"num_epochs\": 50,\n",
    "    \"batch_size\": 32,\n",
    "    \"learning_rate\": 1e-3,\n",
    "}\n",
    "\n",
    "objective_default = run(default_config)\n",
    "print(f\"Accuracy Default Configuration:  {objective_default:.3f}\")"
   ]
  },
  {
   "cell_type": "markdown",
   "id": "c8dc8dc1",
   "metadata": {},
   "source": [
    "## Define the Hyperparameter optimization problem"
   ]
  },
  {
   "cell_type": "code",
   "execution_count": 8,
   "id": "db583ffb",
   "metadata": {},
   "outputs": [],
   "source": [
    "ACTIVATIONS = [\n",
    "    \"elu\",\n",
    "    \"gelu\",\n",
    "    \"hard_sigmoid\",\n",
    "    \"linear\",\n",
    "    \"relu\",\n",
    "    \"selu\",\n",
    "    \"sigmoid\",\n",
    "    \"softplus\",\n",
    "    \"softsign\",\n",
    "    \"swish\",\n",
    "    \"tanh\",\n",
    "]"
   ]
  },
  {
   "cell_type": "code",
   "execution_count": 9,
   "id": "fce8ce9a",
   "metadata": {},
   "outputs": [
    {
     "data": {
      "text/plain": [
       "Configuration space object:\n",
       "  Hyperparameters:\n",
       "    activation, Type: Categorical, Choices: {elu, gelu, hard_sigmoid, linear, relu, selu, sigmoid, softplus, softsign, swish, tanh}, Default: elu\n",
       "    batch_size, Type: UniformInteger, Range: [8, 256], Default: 45, on log-scale\n",
       "    dropout_rate, Type: UniformFloat, Range: [0.0, 0.6], Default: 0.3\n",
       "    learning_rate, Type: UniformFloat, Range: [1e-05, 0.01], Default: 0.0003162278, on log-scale\n",
       "    num_epochs, Type: UniformInteger, Range: [10, 100], Default: 55\n",
       "    units, Type: UniformInteger, Range: [8, 128], Default: 68"
      ]
     },
     "execution_count": 9,
     "metadata": {},
     "output_type": "execute_result"
    }
   ],
   "source": [
    "from deephyper.problem import HpProblem\n",
    "\n",
    "problem = HpProblem()\n",
    "problem.add_hyperparameter((8, 128), \"units\")\n",
    "problem.add_hyperparameter(ACTIVATIONS, \"activation\")\n",
    "problem.add_hyperparameter((0.0, 0.6), \"dropout_rate\")\n",
    "problem.add_hyperparameter((10, 100), \"num_epochs\")\n",
    "problem.add_hyperparameter((8, 256, \"log-uniform\"), \"batch_size\")\n",
    "problem.add_hyperparameter((1e-5, 1e-2, \"log-uniform\"), \"learning_rate\")\n",
    "\n",
    "problem"
   ]
  },
  {
   "cell_type": "markdown",
   "id": "ee3603da",
   "metadata": {},
   "source": [
    "## Define the evaluator object"
   ]
  },
  {
   "cell_type": "code",
   "execution_count": 10,
   "id": "45c5ce60",
   "metadata": {},
   "outputs": [
    {
     "name": "stderr",
     "output_type": "stream",
     "text": [
      "2021-09-22 14:51:27,624\tINFO services.py:1267 -- View the Ray dashboard at \u001b[1m\u001b[32mhttp://127.0.0.1:8265\u001b[39m\u001b[22m\n"
     ]
    },
    {
     "name": "stdout",
     "output_type": "stream",
     "text": [
      "Evaluator's number of workers:  1\n"
     ]
    }
   ],
   "source": [
    "from deephyper.evaluator.evaluate import Evaluator\n",
    "\n",
    "evaluator = Evaluator.create(\n",
    "    run, \n",
    "    method=\"ray\", \n",
    "    method_kwargs={\n",
    "        \"num_cpus\": 1, \n",
    "        \"num_cpus_per_task\": 1\n",
    "    }\n",
    ")\n",
    "\n",
    "print(\"Evaluator's number of workers: \", evaluator.num_workers)"
   ]
  },
  {
   "cell_type": "markdown",
   "id": "b35a9e26",
   "metadata": {},
   "source": [
    "## Define and run the asynchronous model-based search"
   ]
  },
  {
   "cell_type": "code",
   "execution_count": 11,
   "id": "b1c59cb4",
   "metadata": {},
   "outputs": [],
   "source": [
    "from deephyper.search.hps import AMBS\n",
    "\n",
    "search = AMBS(problem, evaluator)"
   ]
  },
  {
   "cell_type": "code",
   "execution_count": null,
   "id": "b3526d60",
   "metadata": {},
   "outputs": [],
   "source": [
    "results = search.search(max_evals=10)"
   ]
  },
  {
   "cell_type": "code",
   "execution_count": 13,
   "id": "81eede11",
   "metadata": {},
   "outputs": [
    {
     "data": {
      "text/html": [
       "<div>\n",
       "<style scoped>\n",
       "    .dataframe tbody tr th:only-of-type {\n",
       "        vertical-align: middle;\n",
       "    }\n",
       "\n",
       "    .dataframe tbody tr th {\n",
       "        vertical-align: top;\n",
       "    }\n",
       "\n",
       "    .dataframe thead th {\n",
       "        text-align: right;\n",
       "    }\n",
       "</style>\n",
       "<table border=\"1\" class=\"dataframe\">\n",
       "  <thead>\n",
       "    <tr style=\"text-align: right;\">\n",
       "      <th></th>\n",
       "      <th>activation</th>\n",
       "      <th>batch_size</th>\n",
       "      <th>dropout_rate</th>\n",
       "      <th>learning_rate</th>\n",
       "      <th>num_epochs</th>\n",
       "      <th>units</th>\n",
       "      <th>id</th>\n",
       "      <th>objective</th>\n",
       "      <th>elapsed_sec</th>\n",
       "      <th>duration</th>\n",
       "    </tr>\n",
       "  </thead>\n",
       "  <tbody>\n",
       "    <tr>\n",
       "      <th>0</th>\n",
       "      <td>linear</td>\n",
       "      <td>32</td>\n",
       "      <td>0.099573</td>\n",
       "      <td>0.000018</td>\n",
       "      <td>96</td>\n",
       "      <td>38</td>\n",
       "      <td>1</td>\n",
       "      <td>0.639344</td>\n",
       "      <td>11.825967</td>\n",
       "      <td>8.603407</td>\n",
       "    </tr>\n",
       "    <tr>\n",
       "      <th>1</th>\n",
       "      <td>swish</td>\n",
       "      <td>10</td>\n",
       "      <td>0.537599</td>\n",
       "      <td>0.000648</td>\n",
       "      <td>82</td>\n",
       "      <td>81</td>\n",
       "      <td>2</td>\n",
       "      <td>0.786885</td>\n",
       "      <td>17.708783</td>\n",
       "      <td>5.712243</td>\n",
       "    </tr>\n",
       "    <tr>\n",
       "      <th>2</th>\n",
       "      <td>softsign</td>\n",
       "      <td>27</td>\n",
       "      <td>0.391965</td>\n",
       "      <td>0.000334</td>\n",
       "      <td>82</td>\n",
       "      <td>116</td>\n",
       "      <td>3</td>\n",
       "      <td>0.803279</td>\n",
       "      <td>22.419314</td>\n",
       "      <td>4.541249</td>\n",
       "    </tr>\n",
       "    <tr>\n",
       "      <th>3</th>\n",
       "      <td>softplus</td>\n",
       "      <td>99</td>\n",
       "      <td>0.011680</td>\n",
       "      <td>0.000011</td>\n",
       "      <td>63</td>\n",
       "      <td>103</td>\n",
       "      <td>4</td>\n",
       "      <td>0.770492</td>\n",
       "      <td>26.120943</td>\n",
       "      <td>3.420843</td>\n",
       "    </tr>\n",
       "    <tr>\n",
       "      <th>4</th>\n",
       "      <td>softsign</td>\n",
       "      <td>11</td>\n",
       "      <td>0.557758</td>\n",
       "      <td>0.000097</td>\n",
       "      <td>87</td>\n",
       "      <td>35</td>\n",
       "      <td>5</td>\n",
       "      <td>0.852459</td>\n",
       "      <td>33.182575</td>\n",
       "      <td>6.854379</td>\n",
       "    </tr>\n",
       "    <tr>\n",
       "      <th>5</th>\n",
       "      <td>sigmoid</td>\n",
       "      <td>10</td>\n",
       "      <td>0.583176</td>\n",
       "      <td>0.000026</td>\n",
       "      <td>22</td>\n",
       "      <td>52</td>\n",
       "      <td>6</td>\n",
       "      <td>0.770492</td>\n",
       "      <td>36.354040</td>\n",
       "      <td>3.000148</td>\n",
       "    </tr>\n",
       "    <tr>\n",
       "      <th>6</th>\n",
       "      <td>linear</td>\n",
       "      <td>256</td>\n",
       "      <td>0.558296</td>\n",
       "      <td>0.000615</td>\n",
       "      <td>93</td>\n",
       "      <td>35</td>\n",
       "      <td>7</td>\n",
       "      <td>0.836066</td>\n",
       "      <td>40.593398</td>\n",
       "      <td>4.070388</td>\n",
       "    </tr>\n",
       "    <tr>\n",
       "      <th>7</th>\n",
       "      <td>softsign</td>\n",
       "      <td>200</td>\n",
       "      <td>0.563932</td>\n",
       "      <td>0.000013</td>\n",
       "      <td>97</td>\n",
       "      <td>42</td>\n",
       "      <td>8</td>\n",
       "      <td>0.557377</td>\n",
       "      <td>45.465948</td>\n",
       "      <td>4.702514</td>\n",
       "    </tr>\n",
       "    <tr>\n",
       "      <th>8</th>\n",
       "      <td>softsign</td>\n",
       "      <td>170</td>\n",
       "      <td>0.198830</td>\n",
       "      <td>0.000202</td>\n",
       "      <td>93</td>\n",
       "      <td>67</td>\n",
       "      <td>9</td>\n",
       "      <td>0.803279</td>\n",
       "      <td>49.507128</td>\n",
       "      <td>3.851345</td>\n",
       "    </tr>\n",
       "    <tr>\n",
       "      <th>9</th>\n",
       "      <td>sigmoid</td>\n",
       "      <td>33</td>\n",
       "      <td>0.568283</td>\n",
       "      <td>0.000341</td>\n",
       "      <td>76</td>\n",
       "      <td>10</td>\n",
       "      <td>10</td>\n",
       "      <td>0.803279</td>\n",
       "      <td>54.008135</td>\n",
       "      <td>4.326625</td>\n",
       "    </tr>\n",
       "  </tbody>\n",
       "</table>\n",
       "</div>"
      ],
      "text/plain": [
       "  activation  batch_size  dropout_rate  learning_rate  num_epochs  units  id  \\\n",
       "0     linear          32      0.099573       0.000018          96     38   1   \n",
       "1      swish          10      0.537599       0.000648          82     81   2   \n",
       "2   softsign          27      0.391965       0.000334          82    116   3   \n",
       "3   softplus          99      0.011680       0.000011          63    103   4   \n",
       "4   softsign          11      0.557758       0.000097          87     35   5   \n",
       "5    sigmoid          10      0.583176       0.000026          22     52   6   \n",
       "6     linear         256      0.558296       0.000615          93     35   7   \n",
       "7   softsign         200      0.563932       0.000013          97     42   8   \n",
       "8   softsign         170      0.198830       0.000202          93     67   9   \n",
       "9    sigmoid          33      0.568283       0.000341          76     10  10   \n",
       "\n",
       "   objective  elapsed_sec  duration  \n",
       "0   0.639344    11.825967  8.603407  \n",
       "1   0.786885    17.708783  5.712243  \n",
       "2   0.803279    22.419314  4.541249  \n",
       "3   0.770492    26.120943  3.420843  \n",
       "4   0.852459    33.182575  6.854379  \n",
       "5   0.770492    36.354040  3.000148  \n",
       "6   0.836066    40.593398  4.070388  \n",
       "7   0.557377    45.465948  4.702514  \n",
       "8   0.803279    49.507128  3.851345  \n",
       "9   0.803279    54.008135  4.326625  "
      ]
     },
     "execution_count": 13,
     "metadata": {},
     "output_type": "execute_result"
    }
   ],
   "source": [
    "results"
   ]
  },
  {
   "cell_type": "code",
   "execution_count": 24,
   "id": "260d6ad2",
   "metadata": {},
   "outputs": [
    {
     "name": "stdout",
     "output_type": "stream",
     "text": [
      "The default configuration has an accuracy of 0.803. The best configuration found by DeepHyper has an accuracy 0.852, trained in 6.85 secondes and finished after 33.18 secondes of search.\n"
     ]
    },
    {
     "data": {
      "text/plain": [
       "{'activation': 'softsign',\n",
       " 'batch_size': 11,\n",
       " 'dropout_rate': 0.5577578230953509,\n",
       " 'learning_rate': 9.724077314964124e-05,\n",
       " 'num_epochs': 87,\n",
       " 'units': 35,\n",
       " 'id': 5}"
      ]
     },
     "execution_count": 24,
     "metadata": {},
     "output_type": "execute_result"
    }
   ],
   "source": [
    "i_max = results.objective.argmax()\n",
    "best_config = results.iloc[results.objective.argmax()][:-3].to_dict()\n",
    "\n",
    "print(f\"The default configuration has an accuracy of {objective_default:.3f}. \" \n",
    "      f\"The best configuration found by DeepHyper has an accuracy {results['objective'].iloc[i_max]:.3f}, \" \n",
    "      f\"trained in {results['duration'].iloc[i_max]:.2f} secondes and \"\n",
    "      f\"finished after {results['elapsed_sec'].iloc[i_max]:.2f} secondes of search.\")\n",
    "\n",
    "\n",
    "\n",
    "best_config"
   ]
  },
  {
   "cell_type": "code",
   "execution_count": null,
   "id": "4eeee533",
   "metadata": {},
   "outputs": [],
   "source": []
  }
 ],
 "metadata": {
  "kernelspec": {
   "display_name": "Python 3",
   "language": "python",
   "name": "python3"
  },
  "language_info": {
   "codemirror_mode": {
    "name": "ipython",
    "version": 3
   },
   "file_extension": ".py",
   "mimetype": "text/x-python",
   "name": "python",
   "nbconvert_exporter": "python",
   "pygments_lexer": "ipython3",
   "version": "3.8.8"
  }
 },
 "nbformat": 4,
 "nbformat_minor": 5
}
